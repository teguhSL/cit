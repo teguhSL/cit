{
 "cells": [
  {
   "cell_type": "code",
   "execution_count": 1,
   "id": "995e6609-a0a1-42e8-b8d1-aff016c03c01",
   "metadata": {},
   "outputs": [],
   "source": [
    "import sys\n",
    "sys.path.append('../lib')\n",
    "\n",
    "import numpy as np\n",
    "import pybullet as p\n",
    "import pybullet_data\n",
    "\n",
    "from pb_utils import create_primitives\n",
    "\n",
    "import time"
   ]
  },
  {
   "cell_type": "markdown",
   "id": "7b57f328-0005-4880-939d-ef94af8852f0",
   "metadata": {},
   "source": [
    "#### Start Pybullet"
   ]
  },
  {
   "cell_type": "code",
   "execution_count": 2,
   "id": "df5b9f21-999b-442f-8b2c-94b675868fde",
   "metadata": {},
   "outputs": [],
   "source": [
    "p.connect(p.GUI)\n",
    "p.setAdditionalSearchPath(pybullet_data.getDataPath())"
   ]
  },
  {
   "cell_type": "markdown",
   "id": "bdf5b243-2720-43fa-9e58-a5a382bb0fa8",
   "metadata": {},
   "source": [
    "#### Load robot"
   ]
  },
  {
   "cell_type": "code",
   "execution_count": 3,
   "id": "5c6d8d1c-ea68-48df-ac0b-65904e1d249d",
   "metadata": {},
   "outputs": [],
   "source": [
    "p.loadURDF('plane.urdf')\n",
    "urdf_filename = '../data/urdf/frankaemika_new/panda_arm.urdf'\n",
    "robot_id = p.loadURDF(urdf_filename, useFixedBase=True)"
   ]
  },
  {
   "cell_type": "markdown",
   "id": "e7d5c9a9-089b-4545-8bc7-cbb6b56294cd",
   "metadata": {},
   "source": [
    "#### Load object(s)"
   ]
  },
  {
   "cell_type": "code",
   "execution_count": 6,
   "id": "ed47daaa-ef5b-4797-8d47-3b0c93710645",
   "metadata": {},
   "outputs": [],
   "source": [
    "_,_,obj_id = create_primitives(radius = 0.1)"
   ]
  },
  {
   "cell_type": "code",
   "execution_count": 8,
   "id": "bf8a2f48-af39-46fc-8f2f-33f571e4cbe1",
   "metadata": {},
   "outputs": [],
   "source": [
    "p.resetBasePositionAndOrientation(obj_id, (0,0,1), (0,0,0,1))"
   ]
  },
  {
   "cell_type": "markdown",
   "id": "06b3a57d-aa99-4693-bbe4-160500ddf9ac",
   "metadata": {},
   "source": [
    "#### Set joint angle"
   ]
  },
  {
   "cell_type": "code",
   "execution_count": 9,
   "id": "e5d986e1-0459-48f9-b1fe-62a54610d5e8",
   "metadata": {},
   "outputs": [],
   "source": [
    "p.resetJointState(robot_id, 3,0.8)"
   ]
  },
  {
   "cell_type": "markdown",
   "id": "d13b3df3-6c5f-416e-b7c6-638671001fca",
   "metadata": {},
   "source": [
    "#### Setup pybullet"
   ]
  },
  {
   "cell_type": "code",
   "execution_count": 11,
   "id": "120d0084-cf63-4506-a954-08d22187deb4",
   "metadata": {},
   "outputs": [],
   "source": [
    "p.setGravity(0,0,-9.81)\n",
    "\n",
    "p.setTimeStep(0.001)"
   ]
  },
  {
   "cell_type": "markdown",
   "id": "2f6eb760-a814-40dd-bd15-42efd91d281f",
   "metadata": {},
   "source": [
    "#### Control velocity of one joint"
   ]
  },
  {
   "cell_type": "code",
   "execution_count": 12,
   "id": "1cd4a164-8ba2-4f40-bd67-be9aa2b8136c",
   "metadata": {},
   "outputs": [],
   "source": [
    "mode = p.VELOCITY_CONTROL"
   ]
  },
  {
   "cell_type": "code",
   "execution_count": 13,
   "id": "66c52c94-b490-4973-8757-0c9fce550026",
   "metadata": {},
   "outputs": [],
   "source": [
    "p.setJointMotorControl2(bodyIndex=robot_id, jointIndex = 1, controlMode=mode,targetVelocity=-0.3,force=500)"
   ]
  },
  {
   "cell_type": "code",
   "execution_count": 15,
   "id": "cc6802df-2b6c-4e0a-8c08-4aebfb0c7b0f",
   "metadata": {},
   "outputs": [],
   "source": [
    "p.setJointMotorControl2(bodyIndex=robot_id, jointIndex = 1, controlMode=mode,targetVelocity=0.3,force=500)"
   ]
  },
  {
   "cell_type": "markdown",
   "id": "7c0b8ba3-d2b5-4d8d-8dcb-019ebb7330af",
   "metadata": {},
   "source": [
    "#### Enable torque control"
   ]
  },
  {
   "cell_type": "code",
   "execution_count": 17,
   "id": "537d3c1e-2265-49b3-82a3-3993518ea8e2",
   "metadata": {},
   "outputs": [],
   "source": [
    "for i in range(7):\n",
    "    p.setJointMotorControl2(bodyIndex=robot_id, jointIndex = i, controlMode=mode,targetVelocity=0.,force=0)    "
   ]
  },
  {
   "cell_type": "markdown",
   "id": "b6d2733f-cddc-472a-916d-bf835dbb30d6",
   "metadata": {},
   "source": [
    "#### Reset joint angles"
   ]
  },
  {
   "cell_type": "code",
   "execution_count": 81,
   "id": "0bbef484-0028-42c8-bff4-15d6031064c4",
   "metadata": {},
   "outputs": [],
   "source": [
    "for i in range(7):\n",
    "    p.resetJointState(robot_id, i,0)"
   ]
  },
  {
   "cell_type": "markdown",
   "id": "35f28259-2926-4fcf-914a-739a3246e337",
   "metadata": {},
   "source": [
    "#### Simulate"
   ]
  },
  {
   "cell_type": "code",
   "execution_count": 18,
   "id": "c5dccb9d-3307-4e32-872c-5b362398e47b",
   "metadata": {},
   "outputs": [],
   "source": [
    "for i in range(10000):\n",
    "    p.stepSimulation()\n",
    "    time.sleep(0.001)"
   ]
  }
 ],
 "metadata": {
  "kernelspec": {
   "display_name": "Python 3",
   "language": "python",
   "name": "python3"
  },
  "language_info": {
   "codemirror_mode": {
    "name": "ipython",
    "version": 3
   },
   "file_extension": ".py",
   "mimetype": "text/x-python",
   "name": "python",
   "nbconvert_exporter": "python",
   "pygments_lexer": "ipython3",
   "version": "3.6.9"
  }
 },
 "nbformat": 4,
 "nbformat_minor": 5
}
