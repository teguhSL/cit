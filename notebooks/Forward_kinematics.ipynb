{
 "cells": [
  {
   "cell_type": "code",
   "execution_count": 7,
   "id": "2bd7ec66-eec4-4c57-b295-f16006a609f5",
   "metadata": {},
   "outputs": [],
   "source": [
    "import numpy as np\n",
    "import matplotlib.pyplot as plt\n",
    "import matplotlib.patches as patches"
   ]
  },
  {
   "cell_type": "markdown",
   "id": "efc57ae9-1e9d-459f-8def-abeb9876ec0e",
   "metadata": {},
   "source": [
    "#### Define the class robot (For plotting)"
   ]
  },
  {
   "cell_type": "code",
   "execution_count": 36,
   "id": "18616647-865c-4ca1-aeb7-a9417c39214b",
   "metadata": {},
   "outputs": [],
   "source": [
    "class Robot():\n",
    "    def __init__(self,l1=1., l2=1.):\n",
    "        self.l1 = l1\n",
    "        self.l2 = l2\n",
    "        self.theta1 = 0.\n",
    "        self.theta2 = 0.\n",
    "        \n",
    "    def set_dof(self,theta):\n",
    "        self.theta1 = theta[0]\n",
    "        self.theta2 = theta[1]\n",
    "            \n",
    "    def plot(self):\n",
    "        x = [0., self.l1*np.cos(self.theta1), self.l1*np.cos(self.theta1) + self.l2*np.cos(self.theta1+ self.theta2)]\n",
    "        y = [0., self.l1*np.sin(self.theta1), self.l1*np.sin(self.theta1) + self.l2*np.sin(self.theta1+ self.theta2)]\n",
    "        fig, ax = plt.subplots(nrows = 1, figsize = (6,6))\n",
    "        plt.plot(x,y,'b',linewidth=5)\n",
    "        plt.plot(x[:-1],y[:-1],'oy',markersize=3 )\n",
    "\n",
    "        \n",
    "        #add base\n",
    "        rect = patches.Rectangle((-0.15,-0.15),0.3,0.3,linewidth=1,edgecolor='g',facecolor='g')\n",
    "        ax.add_patch(rect)\n",
    "        fac = 1.3\n",
    "        ax.set(xlim=(-fac*self.l1-fac*self.l2,fac*self.l1+fac*self.l2), ylim=( -fac*self.l1-fac*self.l2,fac*self.l1+fac*self.l2))\n",
    "        return ax"
   ]
  },
  {
   "cell_type": "markdown",
   "id": "8d1071dd-622d-4169-9eba-42a9ebb051bd",
   "metadata": {},
   "source": [
    "#### Define a robot"
   ]
  },
  {
   "cell_type": "code",
   "execution_count": 29,
   "id": "db97c782-2640-43a6-b128-f0669376dc0f",
   "metadata": {},
   "outputs": [],
   "source": [
    "l1 = 1.\n",
    "l2 = 1.\n",
    "robot = Robot(l1=l1, l2=l2)"
   ]
  },
  {
   "cell_type": "markdown",
   "id": "c1c5b31b-e410-4e84-88e2-022ac906f5e3",
   "metadata": {},
   "source": [
    "#### Set the dof, and plot"
   ]
  },
  {
   "cell_type": "code",
   "execution_count": 38,
   "id": "f7b1d790-04eb-4802-9c19-8e6114555a7d",
   "metadata": {},
   "outputs": [
    {
     "data": {
      "image/png": "[encoded data removed]",
      "text/plain": [
       "<Figure size 432x432 with 1 Axes>"
      ]
     },
     "metadata": {},
     "output_type": "display_data"
    }
   ],
   "source": [
    "robot.set_dof([0.3,0.7]) #change these values to change the robot position\n",
    "ax = robot.plot()"
   ]
  },
  {
   "cell_type": "markdown",
   "id": "d6064755-9c7e-4087-ae45-b02e9c03028e",
   "metadata": {},
   "source": [
    "#### Forward kinematics\n",
    "\n",
    "Given theta1 & theta2, find the tip of the robot"
   ]
  },
  {
   "cell_type": "code",
   "execution_count": 39,
   "id": "033cd3f6-9b64-4615-ae39-972e450cb4e6",
   "metadata": {},
   "outputs": [],
   "source": [
    "def forward_kine(theta1, theta2, l1, l2):\n",
    "    x = l1*np.cos(theta1) + l2*np.cos(theta1+ theta2)\n",
    "    y = l1*np.sin(theta1) + l2*np.sin(theta1+ theta2)\n",
    "    return np.array([x,y])"
   ]
  },
  {
   "cell_type": "code",
   "execution_count": 42,
   "id": "d3e141f6-5110-4604-a82b-21310a1103db",
   "metadata": {},
   "outputs": [
    {
     "data": {
      "text/plain": [
       "[<matplotlib.lines.Line2D at 0x7f0e6d0337b8>]"
      ]
     },
     "execution_count": 42,
     "metadata": {},
     "output_type": "execute_result"
    },
    {
     "data": {
      "image/png": "[encoded data removed]",
      "text/plain": [
       "<Figure size 432x432 with 1 Axes>"
      ]
     },
     "metadata": {},
     "output_type": "display_data"
    }
   ],
   "source": [
    "theta1 = 0.4\n",
    "theta2 = 0.5\n",
    "robot.set_dof([theta1, theta2])\n",
    "\n",
    "\n",
    "#Find the robot tip, and plot\n",
    "pos = forward_kine(theta1, theta2, l1, l2)\n",
    "ax = robot.plot()\n",
    "ax.plot(pos[0], pos[1], 'or', markersize=8) #the position of the tip"
   ]
  }
 ],
 "metadata": {
  "kernelspec": {
   "display_name": "Python 3",
   "language": "python",
   "name": "python3"
  },
  "language_info": {
   "codemirror_mode": {
    "name": "ipython",
    "version": 3
   },
   "file_extension": ".py",
   "mimetype": "text/x-python",
   "name": "python",
   "nbconvert_exporter": "python",
   "pygments_lexer": "ipython3",
   "version": "3.6.9"
  }
 },
 "nbformat": 4,
 "nbformat_minor": 5
}
