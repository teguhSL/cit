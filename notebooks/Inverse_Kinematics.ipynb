{
 "cells": [
  {
   "cell_type": "code",
   "execution_count": 1,
   "id": "2bd7ec66-eec4-4c57-b295-f16006a609f5",
   "metadata": {},
   "outputs": [],
   "source": [
    "import numpy as np\n",
    "import matplotlib.pyplot as plt\n",
    "import matplotlib.patches as patches"
   ]
  },
  {
   "cell_type": "markdown",
   "id": "efc57ae9-1e9d-459f-8def-abeb9876ec0e",
   "metadata": {},
   "source": [
    "#### Define the class robot (For plotting)"
   ]
  },
  {
   "cell_type": "code",
   "execution_count": 61,
   "id": "18616647-865c-4ca1-aeb7-a9417c39214b",
   "metadata": {},
   "outputs": [],
   "source": [
    "class Robot():\n",
    "    def __init__(self,l1=1., l2=1.):\n",
    "        self.l1 = l1\n",
    "        self.l2 = l2\n",
    "        self.theta1 = 0.\n",
    "        self.theta2 = 0.\n",
    "        \n",
    "    def set_dof(self,theta):\n",
    "        self.theta1 = theta[0]\n",
    "        self.theta2 = theta[1]\n",
    "            \n",
    "    def plot(self, ax = None):\n",
    "        x = [0., self.l1*np.cos(self.theta1), self.l1*np.cos(self.theta1) + self.l2*np.cos(self.theta1+ self.theta2)]\n",
    "        y = [0., self.l1*np.sin(self.theta1), self.l1*np.sin(self.theta1) + self.l2*np.sin(self.theta1+ self.theta2)]\n",
    "        if ax is None: fig, ax = plt.subplots(nrows = 1, figsize = (6,6))\n",
    "        plt.plot(x,y,'b',linewidth=5)\n",
    "        plt.plot(x[:-1],y[:-1],'oy',markersize=3 )\n",
    "\n",
    "        \n",
    "        #add base\n",
    "        rect = patches.Rectangle((-0.15,-0.15),0.3,0.3,linewidth=1,edgecolor='g',facecolor='g')\n",
    "        ax.add_patch(rect)\n",
    "        fac = 1.3\n",
    "        ax.set(xlim=(-fac*self.l1-fac*self.l2,fac*self.l1+fac*self.l2), ylim=( -fac*self.l1-fac*self.l2,fac*self.l1+fac*self.l2))\n",
    "        return ax"
   ]
  },
  {
   "cell_type": "markdown",
   "id": "8d1071dd-622d-4169-9eba-42a9ebb051bd",
   "metadata": {},
   "source": [
    "#### Define a robot"
   ]
  },
  {
   "cell_type": "code",
   "execution_count": 62,
   "id": "db97c782-2640-43a6-b128-f0669376dc0f",
   "metadata": {},
   "outputs": [],
   "source": [
    "l1 = 1.\n",
    "l2 = 1.\n",
    "robot = Robot(l1=l1, l2=l2)"
   ]
  },
  {
   "cell_type": "markdown",
   "id": "c1c5b31b-e410-4e84-88e2-022ac906f5e3",
   "metadata": {},
   "source": [
    "#### Set the dof, and plot"
   ]
  },
  {
   "cell_type": "code",
   "execution_count": 63,
   "id": "f7b1d790-04eb-4802-9c19-8e6114555a7d",
   "metadata": {},
   "outputs": [
    {
     "data": {
      "image/png": "[encoded data removed]",
      "text/plain": [
       "<Figure size 432x432 with 1 Axes>"
      ]
     },
     "metadata": {},
     "output_type": "display_data"
    }
   ],
   "source": [
    "robot.set_dof([0.3,0.7]) #change these values to change the robot position\n",
    "ax = robot.plot()"
   ]
  },
  {
   "cell_type": "markdown",
   "id": "d6064755-9c7e-4087-ae45-b02e9c03028e",
   "metadata": {},
   "source": [
    "#### Inverse kinematics\n",
    "\n",
    "Given the desired robot tip (end-effector) position, find the corresponding joint angles"
   ]
  },
  {
   "cell_type": "code",
   "execution_count": 64,
   "id": "efbc66ba-05c0-4199-9405-dd4311e55f91",
   "metadata": {},
   "outputs": [],
   "source": [
    "def forward_kine(theta1, theta2, l1, l2):\n",
    "    x = l1*np.cos(theta1) + l2*np.cos(theta1+ theta2)\n",
    "    y = l1*np.sin(theta1) + l2*np.sin(theta1+ theta2)\n",
    "    return np.array([x,y])"
   ]
  },
  {
   "cell_type": "code",
   "execution_count": 72,
   "id": "033cd3f6-9b64-4615-ae39-972e450cb4e6",
   "metadata": {},
   "outputs": [],
   "source": [
    "def inverse_kine(pos, l1, l2):\n",
    "    #Equations taken from:https://robotacademy.net.au/lesson/inverse-kinematics-for-a-2-joint-robot-arm-using-geometry/\n",
    "    #But the equations for q1b in the slide seems to be wrong; both terms should be positive\n",
    "    \n",
    "    \n",
    "    x, y = pos[0], pos[1]\n",
    "    q2a = np.arccos((x**2 + y**2 -l1**2 -l2**2)/(2*l1*l2))\n",
    "    q1a = np.arctan2(y,x) - np.arctan2((l2*np.sin(q2a)), (l1 + l2*np.cos(q2a)))\n",
    "    \n",
    "    q2b = -np.arccos((x**2 + y**2 -l1**2 -l2**2)/(2*l1*l2))\n",
    "    q1b = np.arctan2(y,x) - np.arctan2((l2*np.sin(q2b)), (l1 + l2*np.cos(q2b)))\n",
    "    \n",
    "    return np.array([q1a,q2a]), np.array([q1b,q2b]) #two solutions"
   ]
  },
  {
   "cell_type": "markdown",
   "id": "e902a2b7-96c1-44cc-bb55-8755f252d167",
   "metadata": {},
   "source": [
    "#### Set the desired pose"
   ]
  },
  {
   "cell_type": "code",
   "execution_count": 75,
   "id": "3a2ba1cf-e228-4eac-95cc-135e940e1ca9",
   "metadata": {},
   "outputs": [],
   "source": [
    "# pos = np.array([1.,1.3])\n",
    "pos = np.random.rand(2)"
   ]
  },
  {
   "cell_type": "markdown",
   "id": "4141bc8a-db7d-41f4-8406-f6937ae09d85",
   "metadata": {},
   "source": [
    "#### Find IK and Plot\n",
    "\n",
    "For 2 links robot, there are (almost) always two IK solutions"
   ]
  },
  {
   "cell_type": "code",
   "execution_count": 76,
   "id": "d3e141f6-5110-4604-a82b-21310a1103db",
   "metadata": {},
   "outputs": [
    {
     "data": {
      "text/plain": [
       "[<matplotlib.lines.Line2D at 0x7fe982d37a20>]"
      ]
     },
     "execution_count": 76,
     "metadata": {},
     "output_type": "execute_result"
    },
    {
     "data": {
      "image/png": "[encoded data removed]",
      "text/plain": [
       "<Figure size 432x432 with 1 Axes>"
      ]
     },
     "metadata": {},
     "output_type": "display_data"
    },
    {
     "data": {
      "image/png": "[encoded data removed]",
      "text/plain": [
       "<Figure size 432x432 with 1 Axes>"
      ]
     },
     "metadata": {},
     "output_type": "display_data"
    }
   ],
   "source": [
    "#Given desired pos, find theta\n",
    "theta_a, theta_b = inverse_kine(pos, l1, l2)\n",
    "\n",
    "#Plot the robot A\n",
    "robot.set_dof(theta_a)\n",
    "ax = robot.plot()\n",
    "\n",
    "#Plot the desired pos\n",
    "ax.plot(pos[0], pos[1], 'or')\n",
    "\n",
    "#Plot the robot B\n",
    "robot.set_dof(theta_b)\n",
    "ax = robot.plot()\n",
    "ax = robot.plot(ax) #to plot at the same plot as A\n",
    "\n",
    "#Plot the desired pos\n",
    "ax.plot(pos[0], pos[1], 'or')"
   ]
  }
 ],
 "metadata": {
  "kernelspec": {
   "display_name": "Python 3",
   "language": "python",
   "name": "python3"
  },
  "language_info": {
   "codemirror_mode": {
    "name": "ipython",
    "version": 3
   },
   "file_extension": ".py",
   "mimetype": "text/x-python",
   "name": "python",
   "nbconvert_exporter": "python",
   "pygments_lexer": "ipython3",
   "version": "3.6.9"
  }
 },
 "nbformat": 4,
 "nbformat_minor": 5
}
