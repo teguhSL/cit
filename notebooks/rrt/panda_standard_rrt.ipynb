{
 "cells": [
  {
   "cell_type": "markdown",
   "metadata": {},
   "source": [
    "# Panda Example"
   ]
  },
  {
   "cell_type": "code",
   "execution_count": 4,
   "metadata": {
    "scrolled": true
   },
   "outputs": [
    {
     "name": "stdout",
     "output_type": "stream",
     "text": [
      "The autoreload extension is already loaded. To reload it, use:\n",
      "  %reload_ext autoreload\n"
     ]
    }
   ],
   "source": [
    "import sys\n",
    "sys.path.append('lib')\n",
    "\n",
    "import scipy\n",
    "import matplotlib.pyplot as plt\n",
    "import numpy as np\n",
    "import time, os\n",
    "from IPython.display import clear_output\n",
    "\n",
    "import pybullet as p\n",
    "import pybullet_data\n",
    "\n",
    "from pb_utils import set_q, vis_traj, create_primitives, get_joint_limits\n",
    "from motion_planning import sampler, col_checker, interpolator, RRT\n",
    "\n",
    "from functools import partial\n",
    "\n",
    "DATA_PATH = '../../data'\n",
    "robot_urdf = DATA_PATH + '/urdf/panda_arm.urdf'\n",
    "\n",
    "%load_ext autoreload\n",
    "%autoreload 2\n",
    "\n",
    "np.set_printoptions(precision=4, suppress=True)"
   ]
  },
  {
   "cell_type": "markdown",
   "metadata": {},
   "source": [
    "### Setup Pybullet"
   ]
  },
  {
   "cell_type": "code",
   "execution_count": 5,
   "metadata": {},
   "outputs": [],
   "source": [
    "physics_client_id = p.connect(p.GUI)\n",
    "p.setPhysicsEngineParameter(enableFileCaching=0)\n",
    "p.setAdditionalSearchPath(pybullet_data.getDataPath())\n",
    "p.configureDebugVisualizer(p.COV_ENABLE_GUI,0)"
   ]
  },
  {
   "cell_type": "code",
   "execution_count": 6,
   "metadata": {},
   "outputs": [],
   "source": [
    "p.resetSimulation()"
   ]
  },
  {
   "cell_type": "markdown",
   "metadata": {},
   "source": [
    "### Setup Robot & environment"
   ]
  },
  {
   "cell_type": "code",
   "execution_count": 7,
   "metadata": {},
   "outputs": [],
   "source": [
    "robot_id = p.loadURDF(fileName=robot_urdf)\n",
    "dof = p.getNumJoints(robot_id)\n",
    "pb_joint_indices = np.arange(7)\n",
    "joint_limits = get_joint_limits(robot_id,pb_joint_indices)\n",
    "\n",
    "plane_id = p.loadURDF('plane.urdf')\n",
    "p.resetBasePositionAndOrientation(plane_id, (0,0,-.5), (0,0,0,1))\n",
    "\n",
    "table_square_id = p.loadURDF('table_square/table_square.urdf')\n",
    "p.resetBasePositionAndOrientation(table_square_id, (0.,0,-0.64), (0, 0, 0.7071068, 0.7071068))\n",
    "\n",
    "table_id = p.loadURDF('table/table.urdf')\n",
    "p.resetBasePositionAndOrientation(table_id, (.7,0,-0.5), (0, 0, 0.7071068, 0.7071068))"
   ]
  },
  {
   "cell_type": "code",
   "execution_count": 8,
   "metadata": {},
   "outputs": [],
   "source": [
    "shelf_urdf = 'urdf/bookshelf_simple_collision.urdf'\n",
    "shelf_id = p.loadURDF(fileName=shelf_urdf)\n",
    "p.resetBasePositionAndOrientation(shelf_id, (-0.6,0.6,-0.5), (0, 0, 0, 1.))\n",
    "\n",
    "#for visualizing the desired target\n",
    "_,_,ball_id = create_primitives(radius=0.05)"
   ]
  },
  {
   "cell_type": "code",
   "execution_count": 13,
   "metadata": {},
   "outputs": [],
   "source": [
    "set_q_std = partial(set_q,robot_id=robot_id, joint_indices=pb_joint_indices)"
   ]
  },
  {
   "cell_type": "markdown",
   "metadata": {},
   "source": [
    "***"
   ]
  },
  {
   "cell_type": "markdown",
   "metadata": {},
   "source": [
    "### Define the RRT"
   ]
  },
  {
   "cell_type": "code",
   "execution_count": 14,
   "metadata": {},
   "outputs": [],
   "source": [
    "rob_simple_sampler = sampler(joint_limits)\n",
    "rob_col_checker = col_checker(robot_id, pb_joint_indices, [ plane_id, shelf_id, table_id, table_square_id])\n",
    "rob_interpolator = interpolator()\n",
    "\n",
    "standard_rrt = RRT(7, rob_simple_sampler, rob_col_checker, rob_interpolator)"
   ]
  },
  {
   "cell_type": "markdown",
   "metadata": {},
   "source": [
    "### Part 1: Planning from a random init config to a random goal config"
   ]
  },
  {
   "cell_type": "markdown",
   "metadata": {},
   "source": [
    "#### Sample random init config"
   ]
  },
  {
   "cell_type": "code",
   "execution_count": 18,
   "metadata": {},
   "outputs": [],
   "source": [
    "col_status = True\n",
    "while col_status is True:\n",
    "    q_init = rob_simple_sampler.sample().flatten()\n",
    "    set_q_std(q_init)\n",
    "    col_status = rob_col_checker.check_collision(q_init)"
   ]
  },
  {
   "cell_type": "markdown",
   "metadata": {},
   "source": [
    "#### Sample random goal config"
   ]
  },
  {
   "cell_type": "code",
   "execution_count": 19,
   "metadata": {},
   "outputs": [],
   "source": [
    "col_status = True\n",
    "while col_status is True:\n",
    "    q_goal = rob_simple_sampler.sample().flatten()\n",
    "    set_q_std(q_goal)\n",
    "    col_status = rob_col_checker.check_collision(q_goal)\n",
    "    "
   ]
  },
  {
   "cell_type": "code",
   "execution_count": 20,
   "metadata": {},
   "outputs": [
    {
     "name": "stdout",
     "output_type": "stream",
     "text": [
      "Reached a goal state...\n",
      "[array([-1.8742, -0.2899,  2.1983, -2.3785,  0.7594,  3.4354, -1.455 ]), array([-1.858 , -0.2643,  2.2573, -2.4137,  0.7104,  3.4693, -1.4395])]\n",
      "[-1.858  -0.2643  2.2573 -2.4137  0.7104  3.4693 -1.4395]\n",
      "Solution is found!\n",
      "Planning...\n"
     ]
    }
   ],
   "source": [
    "path = standard_rrt.plan(np.array(q_init), np.array(q_goal))\n",
    "\n"
   ]
  },
  {
   "cell_type": "code",
   "execution_count": 21,
   "metadata": {},
   "outputs": [],
   "source": [
    "vis_traj(traj, set_q_std, dt = 0.1)"
   ]
  },
  {
   "cell_type": "markdown",
   "metadata": {},
   "source": [
    "### Part 2: Planning from an initial EE position to a goal EE position"
   ]
  },
  {
   "cell_type": "markdown",
   "metadata": {},
   "source": [
    "#### Get init config using IK"
   ]
  },
  {
   "cell_type": "code",
   "execution_count": 28,
   "metadata": {},
   "outputs": [],
   "source": [
    "col_status = True\n",
    "while col_status is True:\n",
    "    set_q_std(rob_simple_sampler.sample().flatten())\n",
    "    q_init = np.array(p.calculateInverseKinematics(robot_id, 7,  (0., 0.5, 0.55)))\n",
    "    set_q_std(q_init)\n",
    "    col_status = rob_col_checker.check_collision(q_init)"
   ]
  },
  {
   "cell_type": "markdown",
   "metadata": {},
   "source": [
    "#### Get goal config using IK"
   ]
  },
  {
   "cell_type": "code",
   "execution_count": 29,
   "metadata": {},
   "outputs": [],
   "source": [
    "col_status = True\n",
    "while col_status is True:\n",
    "    set_q_std(rob_simple_sampler.sample().flatten())\n",
    "    q_goal = np.array(p.calculateInverseKinematics(robot_id, 7,  (0.5, 0., 0.6)))\n",
    "    set_q_std(q_goal)\n",
    "    col_status = rob_col_checker.check_collision(q_goal)"
   ]
  },
  {
   "cell_type": "markdown",
   "metadata": {},
   "source": [
    "#### Plan"
   ]
  },
  {
   "cell_type": "code",
   "execution_count": 30,
   "metadata": {},
   "outputs": [
    {
     "name": "stdout",
     "output_type": "stream",
     "text": [
      "Trying to reach the goal state...\n",
      "[array([-3.7585, -1.1814, -2.7459, -2.292 ,  2.0956,  1.3963, -2.4089]), array([-3.7926, -1.1699, -2.7483, -2.2976,  2.1776,  1.4122, -2.4409])]\n",
      "[-3.7926 -1.1699 -2.7483 -2.2976  2.1776  1.4122 -2.4409]\n",
      "Solution is found!\n",
      "Planning...\n"
     ]
    }
   ],
   "source": [
    "traj = standard_rrt.plan(q_init, q_goal)\n"
   ]
  },
  {
   "cell_type": "code",
   "execution_count": 31,
   "metadata": {},
   "outputs": [],
   "source": [
    "vis_traj(traj, set_q_std)"
   ]
  }
 ],
 "metadata": {
  "kernelspec": {
   "display_name": "Python 3",
   "language": "python",
   "name": "python3"
  },
  "language_info": {
   "codemirror_mode": {
    "name": "ipython",
    "version": 3
   },
   "file_extension": ".py",
   "mimetype": "text/x-python",
   "name": "python",
   "nbconvert_exporter": "python",
   "pygments_lexer": "ipython3",
   "version": "3.6.9"
  }
 },
 "nbformat": 4,
 "nbformat_minor": 4
}
