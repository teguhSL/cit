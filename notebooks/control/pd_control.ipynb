{
 "cells": [
  {
   "cell_type": "markdown",
   "id": "1630e55e-fa70-4da6-be19-1ca864c53941",
   "metadata": {},
   "source": [
    "# Controlling Panda in Pybullet"
   ]
  },
  {
   "cell_type": "code",
   "execution_count": 1,
   "id": "4b41001e-b786-461d-a45e-fa5f1ea368a3",
   "metadata": {},
   "outputs": [],
   "source": [
    "import sys\n",
    "sys.path.append('../../lib')\n",
    "\n",
    "import numpy as np\n",
    "import pybullet as p\n",
    "import pybullet_data\n",
    "\n",
    "import time"
   ]
  },
  {
   "cell_type": "code",
   "execution_count": 2,
   "id": "c2afe804-71d1-4d74-acf0-231b884ea0e7",
   "metadata": {},
   "outputs": [],
   "source": [
    "def get_joint_states(robot_id, dof = 7):\n",
    "    q = [p.getJointState(robot_id, i)[0] for i in range(dof)]\n",
    "    dq = [p.getJointState(robot_id, i)[1] for i in range(dof)]\n",
    "    return q, dq\n",
    "\n",
    "def get_joint_limits(robot_id, indices):\n",
    "    lower_limits = []\n",
    "    upper_limits = []\n",
    "    for i in indices:\n",
    "        info = p.getJointInfo(robot_id, i)\n",
    "        lower_limits += [info[8]]\n",
    "        upper_limits += [info[9]]\n",
    "    limits = np.vstack([lower_limits, upper_limits])\n",
    "    return limits\n",
    "\n",
    "def set_q(robot_id, joint_indices, q):\n",
    "    for i in range(len(q)):\n",
    "        p.resetJointState(robot_id, joint_indices[i], q[i])\n",
    "\n",
    "def get_max_torques(robot_id, dof=7):\n",
    "    max_torque = np.array([p.getJointInfo(robot_id,i)[10] for i in range(dof)])\n",
    "    return max_torque"
   ]
  },
  {
   "cell_type": "markdown",
   "id": "9b8181e6-1408-4cf1-9ce5-bb44949ab8d0",
   "metadata": {},
   "source": [
    "#### Start Pybullet"
   ]
  },
  {
   "cell_type": "code",
   "execution_count": 4,
   "id": "508b703b-2523-49d5-9fe6-db08148fdee8",
   "metadata": {},
   "outputs": [],
   "source": [
    "p.connect(p.GUI)\n",
    "p.setAdditionalSearchPath(pybullet_data.getDataPath())\n",
    "p.setGravity(0,0,-9.81)\n",
    "p.setTimeStep(0.001)\n",
    "\n",
    "p.configureDebugVisualizer(p.COV_ENABLE_GUI,0)"
   ]
  },
  {
   "cell_type": "markdown",
   "id": "eceae042-478f-4b34-8311-306a644cbf31",
   "metadata": {},
   "source": [
    "#### Load robot"
   ]
  },
  {
   "cell_type": "code",
   "execution_count": 5,
   "id": "f71d5c94-c1bb-4799-b80c-98a7351dc386",
   "metadata": {},
   "outputs": [],
   "source": [
    "p.loadURDF('plane.urdf')\n",
    "urdf_filename = '../data/urdf/frankaemika_new/panda_arm.urdf'\n",
    "robot_id = p.loadURDF(urdf_filename, useFixedBase=True)\n",
    "dof = 7\n",
    "joint_indices = np.arange(dof)\n",
    "joint_limits = get_joint_limits(robot_id, joint_indices)\n",
    "max_torque = get_max_torques(robot_id)"
   ]
  },
  {
   "cell_type": "markdown",
   "id": "2d3ff7a9-7b3c-40f4-a5b2-1453caaa25e5",
   "metadata": {},
   "source": [
    "#### Enable torque control\n",
    "Enable torque control at all joints, by setting it in velocity control mode with max_force = 0 (this is very specific to pybullet, it's just like a trick to enable torque control)"
   ]
  },
  {
   "cell_type": "code",
   "execution_count": 6,
   "id": "76f60850-1663-4474-8f74-d40df8c2a985",
   "metadata": {},
   "outputs": [],
   "source": [
    "mode = p.VELOCITY_CONTROL\n",
    "\n",
    "for i in range(7):\n",
    "    p.setJointMotorControl2(bodyIndex=robot_id, jointIndex = i, controlMode=mode,targetVelocity=0.,force=0)    "
   ]
  },
  {
   "cell_type": "markdown",
   "id": "2c8a376c-42fe-4934-be30-129fe1f3b88a",
   "metadata": {},
   "source": [
    "#### Reset joint angles"
   ]
  },
  {
   "cell_type": "code",
   "execution_count": 7,
   "id": "0a2ad003-b626-49fe-b9ff-d2d1a4625ac0",
   "metadata": {},
   "outputs": [],
   "source": [
    "for i in range(7):\n",
    "    p.resetJointState(robot_id, i,0)"
   ]
  },
  {
   "cell_type": "markdown",
   "id": "1cc16204-8a27-4aae-aeeb-51175caf08d9",
   "metadata": {},
   "source": [
    "#### Example of Simulation (without control)\n",
    "Without control, the robot will simply fall down due to gravity"
   ]
  },
  {
   "cell_type": "code",
   "execution_count": null,
   "id": "0985a01c-8b0a-4688-a797-34283fa8db90",
   "metadata": {},
   "outputs": [],
   "source": [
    "for i in range(10000):\n",
    "    p.stepSimulation()\n",
    "    time.sleep(0.001)"
   ]
  },
  {
   "cell_type": "markdown",
   "id": "5c29446c-cd4e-4fa2-a747-2032fe24db06",
   "metadata": {},
   "source": [
    "## Generic Control Structure"
   ]
  },
  {
   "cell_type": "markdown",
   "id": "6d35b250-2c33-49c4-bde6-bbbc07c364cd",
   "metadata": {},
   "source": [
    "#### Set the robot at initial config"
   ]
  },
  {
   "cell_type": "code",
   "execution_count": 9,
   "id": "fc195475-c8d0-4571-9e62-70379f5b0ae0",
   "metadata": {},
   "outputs": [],
   "source": [
    "q_init = (joint_limits[0]+joint_limits[1])/2\n",
    "\n",
    "set_q(robot_id, joint_indices, q_init)"
   ]
  },
  {
   "cell_type": "markdown",
   "id": "3bb8fb3e-9b99-4844-9dd7-2e4440fcd099",
   "metadata": {},
   "source": [
    "#### Control Loop"
   ]
  },
  {
   "cell_type": "code",
   "execution_count": null,
   "id": "03315346-b046-4073-8f0c-e4a59360e490",
   "metadata": {},
   "outputs": [],
   "source": [
    "for i in range(1000):\n",
    "    q, dq = get_joint_states(robot_id) #get current robot config\n",
    "    \n",
    "    #****(FILL IN THIS WITH YOUR CONTROLLER)#****\n",
    "    tau = ..... \n",
    "    \n",
    "    np.clip(tau, -max_torque, max_torque) #limit the torque to the max values\n",
    "    p.setJointMotorControlArray(robot_id, joint_indices, p.TORQUE_CONTROL, \n",
    "                                forces=tau)\n",
    "    p.stepSimulation()\n",
    "    time.sleep(0.001)"
   ]
  },
  {
   "cell_type": "markdown",
   "id": "2d2d2709-4109-4b32-a501-2c0f73e32576",
   "metadata": {},
   "source": [
    "# Example of Controllers"
   ]
  },
  {
   "cell_type": "markdown",
   "id": "4a379d58-4733-46f7-aa5e-ed2e90f109f6",
   "metadata": {},
   "source": [
    "## 1. Gravity Compensation\n",
    "\n",
    "The robot will simply stay at the current configuration, because we exert torque that balances the gravity"
   ]
  },
  {
   "cell_type": "markdown",
   "id": "360ab860-5654-420a-aafd-ad6e68ff2d7e",
   "metadata": {},
   "source": [
    "#### Set init config"
   ]
  },
  {
   "cell_type": "code",
   "execution_count": 14,
   "id": "bfb440e1-8bcf-4230-bd73-796518a59e7a",
   "metadata": {},
   "outputs": [],
   "source": [
    "q_init = (joint_limits[0]+joint_limits[1])/2\n",
    "set_q(robot_id, joint_indices, q_init)"
   ]
  },
  {
   "cell_type": "markdown",
   "id": "c9787536-942e-4172-bf10-71e4f35e9ba4",
   "metadata": {},
   "source": [
    "#### Control Loop"
   ]
  },
  {
   "cell_type": "code",
   "execution_count": null,
   "id": "ed67efaa-743b-4c5d-a975-3a6eab8b511e",
   "metadata": {},
   "outputs": [],
   "source": [
    "for i in range(10000):\n",
    "    q, dq = get_joint_states(robot_id)\n",
    "    \n",
    "    #Get the torque on the joints caused by gravity, by using inverse dynamics\n",
    "    #In the inverse dynamics, set current velocity = 0 and desired_acceleration = 0\n",
    "    #And the output will be gravity\n",
    "    #Inverse dynamics equation: tau = M.ddq_des + C.dq + G\n",
    "    #ddq_des = desired acceleration, which is zero (we don't want the robot to move)\n",
    "    G = np.array(p.calculateInverseDynamics(robot_id, q, [0.]*dof, [0.]*dof))\n",
    "    tau = 1.*G\n",
    "    p.setJointMotorControlArray(robot_id, joint_indices, p.TORQUE_CONTROL, \n",
    "                                forces=tau)\n",
    "    p.stepSimulation()\n",
    "    time.sleep(0.001)"
   ]
  },
  {
   "cell_type": "markdown",
   "id": "3e684b59-6adb-4a06-8290-8403429e5bae",
   "metadata": {},
   "source": [
    "#### Tips: try to multiply G by a factor, e.g. from 0.5 to 1.5, and see what happens"
   ]
  },
  {
   "cell_type": "markdown",
   "id": "d01578fe-cedc-4c6e-af1f-8d6d0b09ab5a",
   "metadata": {},
   "source": [
    "## Moving to a target point"
   ]
  },
  {
   "cell_type": "markdown",
   "id": "394ac6ae-ee0a-46aa-a616-5fe2ed3faefe",
   "metadata": {},
   "source": [
    "#### Set init config"
   ]
  },
  {
   "cell_type": "code",
   "execution_count": 16,
   "id": "63762579-fa1a-4657-bbce-6ff2f33e1f81",
   "metadata": {},
   "outputs": [],
   "source": [
    "q_init = (joint_limits[0]+joint_limits[1])/2"
   ]
  },
  {
   "cell_type": "code",
   "execution_count": 17,
   "id": "2bdf3afe-2e6b-4c49-ada8-ef1073df1201",
   "metadata": {},
   "outputs": [],
   "source": [
    "set_q(robot_id, joint_indices, q_init)"
   ]
  },
  {
   "cell_type": "markdown",
   "id": "383985fe-0286-4991-aa1e-2c06c1e101c3",
   "metadata": {},
   "source": [
    "#### Set goal config (random)"
   ]
  },
  {
   "cell_type": "code",
   "execution_count": 21,
   "id": "59a1e7b5-106c-4813-899f-8682e67f9542",
   "metadata": {},
   "outputs": [],
   "source": [
    "q_goal = joint_limits[0] + np.array([0.3, 0.3, 0.2, 0.3, 0.4, 0.5, 0.1])*(joint_limits[1]-joint_limits[0])"
   ]
  },
  {
   "cell_type": "code",
   "execution_count": 22,
   "id": "a9542a88-eaf7-4303-a32f-86563a3c1b7b",
   "metadata": {},
   "outputs": [],
   "source": [
    "set_q(robot_id, joint_indices, q_goal)"
   ]
  },
  {
   "cell_type": "markdown",
   "id": "963f5267-b083-4ddf-b771-e187bff3d6c8",
   "metadata": {},
   "source": [
    "#### Interpolate to get reference trajectory"
   ]
  },
  {
   "cell_type": "code",
   "execution_count": 40,
   "id": "dce1724f-806b-4a2f-8cba-9d0d8b08341e",
   "metadata": {},
   "outputs": [],
   "source": [
    "N = 3000\n",
    "dq = (q_goal-q_init)/N\n",
    "q_traj = [q_init + dq*i for i in range(N)]"
   ]
  },
  {
   "cell_type": "code",
   "execution_count": 41,
   "id": "23bad109-439c-4163-af89-9b042c08b84b",
   "metadata": {},
   "outputs": [],
   "source": [
    "for q in q_traj:\n",
    "    set_q(robot_id, joint_indices, q)\n",
    "    time.sleep(0.001)"
   ]
  },
  {
   "cell_type": "markdown",
   "id": "e3b40421-5407-4ae2-884f-4a89d5eae437",
   "metadata": {},
   "source": [
    "## 2.  PD control to track q_traj"
   ]
  },
  {
   "cell_type": "code",
   "execution_count": 46,
   "id": "108c6ffb-2e98-45b9-9f89-d276a67ced52",
   "metadata": {},
   "outputs": [],
   "source": [
    "set_q(robot_id, joint_indices, q_init)"
   ]
  },
  {
   "cell_type": "code",
   "execution_count": 47,
   "id": "1a9d966e-75b7-4471-8d4b-9c87e4f80b93",
   "metadata": {},
   "outputs": [],
   "source": [
    "Kp = np.array([300]*4 + [30]*3) #the gain on the first four joints should be larger\n",
    "Kd = 0.1*np.sqrt(2*Kp)set_q(robot_id,"
   ]
  },
  {
   "cell_type": "code",
   "execution_count": 48,
   "id": "05158548-6345-4dc9-872c-bf78a87ab703",
   "metadata": {},
   "outputs": [],
   "source": [
    "for i in range(N):\n",
    "    q, dq = get_joint_states(robot_id)\n",
    "    error_pos = q_traj[i]-q\n",
    "    error_vel = np.zeros(dof)-dq #desired velocity = zero. But it can also be computed from q_traj\n",
    "    tau = Kp*(error_pos) + Kd*(error_vel)\n",
    "    np.clip(tau, -max_torque, max_torque)\n",
    "    p.setJointMotorControlArray(robot_id, joint_indices, p.TORQUE_CONTROL, \n",
    "                                forces=tau)\n",
    "    p.stepSimulation()\n",
    "    time.sleep(0.001)"
   ]
  },
  {
   "cell_type": "code",
   "execution_count": 49,
   "id": "b9baade4-12e5-47c1-93bb-cd85a6352156",
   "metadata": {},
   "outputs": [
    {
     "name": "stdout",
     "output_type": "stream",
     "text": [
      "[-0.0125823  -0.06588684 -0.063441   -0.02716513 -0.04460622 -0.03050568\n",
      "  0.02163088]\n"
     ]
    }
   ],
   "source": [
    "print(np.array(q)-q_goal)"
   ]
  },
  {
   "cell_type": "markdown",
   "id": "c3fc2a50-4e3b-451e-808b-24deda945e28",
   "metadata": {},
   "source": [
    "## 3. PD control + Gravity compensation to track q_traj"
   ]
  },
  {
   "cell_type": "code",
   "execution_count": 54,
   "id": "4aefd883-08eb-454a-a6ea-75a161c48010",
   "metadata": {},
   "outputs": [],
   "source": [
    "set_q(robot_id, joint_indices, q_init)"
   ]
  },
  {
   "cell_type": "code",
   "execution_count": 55,
   "id": "fd47fda0-e802-49ae-b940-f43da4668704",
   "metadata": {},
   "outputs": [],
   "source": [
    "Kp = np.array([30]*4 + [10]*3)\n",
    "Kd = .1*np.sqrt(2*Kp)"
   ]
  },
  {
   "cell_type": "code",
   "execution_count": 56,
   "id": "ab1f1f22-f7df-41ea-9494-c4dab874a49f",
   "metadata": {},
   "outputs": [],
   "source": [
    "for i in range(N):\n",
    "    q, dq = get_joint_states(robot_id)\n",
    "    error_pos = q_traj[i]-q\n",
    "    error_vel = np.zeros(dof)-dq\n",
    "    G = np.array(p.calculateInverseDynamics(robot_id, q, [0.]*dof, [0.]*dof))\n",
    "    tau = G + Kp*(error_pos) + Kd*(error_vel)\n",
    "    np.clip(tau, -max_torque, max_torque)\n",
    "    p.setJointMotorControlArray(robot_id, joint_indices, p.TORQUE_CONTROL, \n",
    "                                forces=tau)\n",
    "    p.stepSimulation()\n",
    "    time.sleep(0.001)"
   ]
  },
  {
   "cell_type": "code",
   "execution_count": 57,
   "id": "e8c388a0-ce36-4c69-b7f2-3345269f206c",
   "metadata": {},
   "outputs": [
    {
     "name": "stdout",
     "output_type": "stream",
     "text": [
      "[-0.02087358  0.02960051  0.02455801  0.09394584  0.00554015  0.04019914\n",
      "  0.03661858]\n"
     ]
    }
   ],
   "source": [
    "print(np.array(q)-q_goal)"
   ]
  }
 ],
 "metadata": {
  "kernelspec": {
   "display_name": "Python 3",
   "language": "python",
   "name": "python3"
  },
  "language_info": {
   "codemirror_mode": {
    "name": "ipython",
    "version": 3
   },
   "file_extension": ".py",
   "mimetype": "text/x-python",
   "name": "python",
   "nbconvert_exporter": "python",
   "pygments_lexer": "ipython3",
   "version": "3.9.5"
  }
 },
 "nbformat": 4,
 "nbformat_minor": 5
}
